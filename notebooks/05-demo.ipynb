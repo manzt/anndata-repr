{
 "cells": [
  {
   "cell_type": "code",
   "execution_count": null,
   "id": "855b3494-8f4d-4fb4-9a4d-85767b0975ba",
   "metadata": {},
   "outputs": [],
   "source": [
    "import anndata\n",
    "from anndata_repr import format_anndata_html_compact, format_anndata_html_complete\n",
    "\n",
    "def _repr_html_(adata):\n",
    "    # return format_anndata_html_compact(adata)\n",
    "    return format_anndata_html_complete(adata)\n",
    "    \n",
    "anndata.AnnData._repr_html_ = _repr_html_\n",
    "adata = anndata.read_h5ad(\"../data/scverse-getting-started-anndata-pbmc3k_processed.h5ad\")\n",
    "adata"
   ]
  },
  {
   "cell_type": "code",
   "execution_count": null,
   "id": "84fb7d0d-e8fe-4744-93f0-99cfe7a67d38",
   "metadata": {},
   "outputs": [],
   "source": []
  },
  {
   "cell_type": "code",
   "execution_count": null,
   "id": "cd4ccd12-85ab-457d-bb46-bc137f421056",
   "metadata": {},
   "outputs": [],
   "source": []
  }
 ],
 "metadata": {
  "kernelspec": {
   "display_name": "Python 3 (ipykernel)",
   "language": "python",
   "name": "python3"
  },
  "language_info": {
   "codemirror_mode": {
    "name": "ipython",
    "version": 3
   },
   "file_extension": ".py",
   "mimetype": "text/x-python",
   "name": "python",
   "nbconvert_exporter": "python",
   "pygments_lexer": "ipython3",
   "version": "3.12.2"
  },
  "widgets": {
   "application/vnd.jupyter.widget-state+json": {
    "state": {},
    "version_major": 2,
    "version_minor": 0
   }
  }
 },
 "nbformat": 4,
 "nbformat_minor": 5
}
